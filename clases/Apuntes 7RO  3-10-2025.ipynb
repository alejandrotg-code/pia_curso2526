{
  "nbformat": 4,
  "nbformat_minor": 0,
  "metadata": {
    "colab": {
      "provenance": []
    },
    "kernelspec": {
      "name": "python3",
      "display_name": "Python 3"
    },
    "language_info": {
      "name": "python"
    }
  },
  "cells": [
    {
      "cell_type": "markdown",
      "source": [
        "type: Define el tipo de la variable.\n",
        "Los booleanos se escriben mayusculas (verdadero = True)\n",
        "\n",
        "Lista pueden llevar diferentes tipos de variables.\n",
        "\n",
        "str convierte numero en cadenas para poder concadenar, ejemplo: print(\"Tengo \" + str(edad) + \" años\"\n",
        "\n"
      ],
      "metadata": {
        "id": "GNm3SeQoXL2M"
      }
    },
    {
      "cell_type": "code",
      "execution_count": null,
      "metadata": {
        "colab": {
          "base_uri": "https://localhost:8080/"
        },
        "id": "3EV2T2NrShzj",
        "outputId": "88a2f435-629c-4d10-bfc1-43e1d47cf38e"
      },
      "outputs": [
        {
          "output_type": "stream",
          "name": "stdout",
          "text": [
            "Hola, Alejandro\n"
          ]
        }
      ],
      "source": [
        "nombre = \"Alejandro\"\n",
        "edad = 20\n",
        "\n",
        "\n",
        "if (nombre == \"Alejandro\"):\n",
        "  print(\"Hola, \" + nombre)\n",
        "else:\n",
        "  print(\"¿Quien eres?\")\n"
      ]
    },
    {
      "cell_type": "code",
      "source": [
        "a = 10\n",
        "b = 2\n",
        "\n",
        "varAux = a\n",
        "\n",
        "a = b\n",
        "\n",
        "b = varAux\n",
        "\n",
        "print(str(a) + \" \" + \" \" + str(b))\n"
      ],
      "metadata": {
        "colab": {
          "base_uri": "https://localhost:8080/"
        },
        "id": "hduWutT9aZEj",
        "outputId": "1c7e1cad-fdee-45d6-be2c-01d85f60e16f"
      },
      "execution_count": null,
      "outputs": [
        {
          "output_type": "stream",
          "name": "stdout",
          "text": [
            "2  10\n"
          ]
        }
      ]
    },
    {
      "cell_type": "code",
      "source": [
        "a = 1\n",
        "b = 10\n",
        "\n",
        "\n",
        "for i in range(a, b):\n",
        "  print(i)\n"
      ],
      "metadata": {
        "colab": {
          "base_uri": "https://localhost:8080/"
        },
        "id": "rqKFMofaeLjg",
        "outputId": "c0c26a2b-78e0-40d8-d96d-b23ad33f3c8a"
      },
      "execution_count": null,
      "outputs": [
        {
          "output_type": "stream",
          "name": "stdout",
          "text": [
            "1\n",
            "2\n",
            "3\n",
            "4\n",
            "5\n",
            "6\n",
            "7\n",
            "8\n",
            "9\n"
          ]
        }
      ]
    }
  ]
}