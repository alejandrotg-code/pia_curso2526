{
  "nbformat": 4,
  "nbformat_minor": 0,
  "metadata": {
    "colab": {
      "provenance": []
    },
    "kernelspec": {
      "name": "python3",
      "display_name": "Python 3"
    },
    "language_info": {
      "name": "python"
    }
  },
  "cells": [
    {
      "cell_type": "markdown",
      "source": [
        "# Variables y tipos de datos simples"
      ],
      "metadata": {
        "id": "kRWydY6XKHrD"
      }
    },
    {
      "cell_type": "markdown",
      "source": [
        "## Ejercicio 1"
      ],
      "metadata": {
        "id": "kDrc0FyoLmLu"
      }
    },
    {
      "cell_type": "markdown",
      "source": [
        "Asigna un mensaje a una variable e imprímelo por pantalla."
      ],
      "metadata": {
        "id": "gPy80I5vLoOh"
      }
    },
    {
      "cell_type": "code",
      "source": [
        "mensaje = 'Hola, este es el primer ejercicio.'\n",
        "print(mensaje)"
      ],
      "metadata": {
        "id": "Gp5afBkkMA0g",
        "colab": {
          "base_uri": "https://localhost:8080/"
        },
        "outputId": "27243fee-825d-4d23-84bd-e47a38714a23"
      },
      "execution_count": null,
      "outputs": [
        {
          "output_type": "stream",
          "name": "stdout",
          "text": [
            "Hola, este es el primer ejercicio.\n"
          ]
        }
      ]
    },
    {
      "cell_type": "markdown",
      "source": [
        "## Ejercicio 2"
      ],
      "metadata": {
        "id": "GyiBbRkaMB0Q"
      }
    },
    {
      "cell_type": "markdown",
      "source": [
        "Asigna a una variable tu nombre y a otra tus dos apellidos. A continuación, haciendo uso de *cadenas f*, muestra por pantalla el texto **apellidos, texto** (sustituyendo **apellidos** y **nombre** por los valores correctos)."
      ],
      "metadata": {
        "id": "SLTW6fC-MD_S"
      }
    },
    {
      "cell_type": "code",
      "source": [
        "nombre = 'Alejandro'\n",
        "apellidos = 'Tacoronte González '\n",
        "print(apellidos + nombre)"
      ],
      "metadata": {
        "id": "f7s171TmNIof",
        "colab": {
          "base_uri": "https://localhost:8080/"
        },
        "outputId": "7ca1a349-d706-47c3-c0ea-334c19f3c85f"
      },
      "execution_count": null,
      "outputs": [
        {
          "output_type": "stream",
          "name": "stdout",
          "text": [
            "Tacoronte González Alejandro\n"
          ]
        }
      ]
    },
    {
      "cell_type": "markdown",
      "source": [
        "# Entrada del usuario"
      ],
      "metadata": {
        "id": "B6iOEYynMbeA"
      }
    },
    {
      "cell_type": "markdown",
      "source": [
        "## Ejercicio 3"
      ],
      "metadata": {
        "id": "6FX-m2I2Md0t"
      }
    },
    {
      "cell_type": "markdown",
      "source": [
        "Solicita por teclado al usuario dos números reales, calcula su suma y muestra por pantalla el resultado en la forma **x + y = s** (donde **x** e **y** son los valores introducidos, y **s** el resultado de la suma)."
      ],
      "metadata": {
        "id": "Pp-vYfunM9du"
      }
    },
    {
      "cell_type": "code",
      "source": [
        "num1 = int(input('Introduce un número: '))\n",
        "num2 = int(input('Introduce otro número: '))\n",
        "\n",
        "suma = num1 + num2\n",
        "print(str(num1) + '+' + str(num2) + ' = ' + str(suma))"
      ],
      "metadata": {
        "id": "2nJBwiN6NJbY",
        "colab": {
          "base_uri": "https://localhost:8080/"
        },
        "outputId": "bffcf514-641d-480b-fcfa-bace6781d013"
      },
      "execution_count": null,
      "outputs": [
        {
          "output_type": "stream",
          "name": "stdout",
          "text": [
            "Introduce un número: 1\n",
            "Introduce otro número: 2\n",
            "1+2 = 3\n"
          ]
        }
      ]
    },
    {
      "cell_type": "markdown",
      "source": [
        "## Ejercicio 4"
      ],
      "metadata": {
        "id": "njf4rs1CNJzu"
      }
    },
    {
      "cell_type": "markdown",
      "source": [
        "Solicita al usuario su nombre y sus dos apellidos, almacenando los valores en variables separadas. A continuación, muestra el mensaje **Apellido1 Apellido2, Nombre** (donde **Apellido1**, **Apellido2** y **Nombre** son los valores introducidos). La idea es que sólo la primera letra esté en maýuscula, ignorando cómo ha escrito el usuario sus datos. Por ejemplo, si el usuario introdujera **SaNtana** como primer apellido, **PÉREZ** como segundo y **JoSÉ Antonio** como nombre, el resultado sería **Santana Pérez, José Antonio**. Para conseguir el resultado, debes hacer uso del método *title()* que ofrece el tipo String."
      ],
      "metadata": {
        "id": "QthOB1xPNtjE"
      }
    },
    {
      "cell_type": "code",
      "source": [
        "nombre = input('Intrdocue tu nombre: ')\n",
        "apellido1 = input('Introduce tu primer apellido: ')\n",
        "apellido2 = input('Introduce tu segundo apellido: ')\n",
        "\n",
        "print(apellido1.title() + ' ' + apellido2.title() + ' ' + nombre.title())"
      ],
      "metadata": {
        "id": "gC8QDEURPIsU",
        "colab": {
          "base_uri": "https://localhost:8080/"
        },
        "outputId": "70bbbb46-8488-4e67-c04e-d7e8ee1f0f83"
      },
      "execution_count": null,
      "outputs": [
        {
          "output_type": "stream",
          "name": "stdout",
          "text": [
            "Intrdocue tu nombre: aLEJANDRO\n",
            "Introduce tu primer apellido: tacoronte\n",
            "Introduce tu segundo apellido: goNZALEZ\n",
            "Tacoronte Gonzalez Alejandro\n"
          ]
        }
      ]
    },
    {
      "cell_type": "markdown",
      "source": [
        "## Ejercicio 5"
      ],
      "metadata": {
        "id": "4ykLkZTVPJHa"
      }
    },
    {
      "cell_type": "markdown",
      "source": [
        "Solicita al usuario su nombre de pila y su altura, almacenando los valores en variables separadas. En la primera almacenarás una cadena de caracteres (o string) y en la segunda un valor real (o float). A continuación, muestra el mensaje de la forma **Juan, tu altura es 1.70 m**, donde **Juan** en este caso es el nombre que ha introducido el usuario y **1.70** la altura. Fíjate en el formato de la altura, con dos decimales. Haz uso de *cadenas f* y del método *format()* que ofrece el tipo String."
      ],
      "metadata": {
        "id": "c5dXf9e9TfaP"
      }
    },
    {
      "cell_type": "code",
      "source": [
        "alias = input('Introduce tu nombre de pila: ')\n",
        "altura = float(input('Introduce tu altura: '))\n",
        "\n",
        "presentacion = f'{alias} tu altura es de {altura:.2f} m'\n",
        "\n",
        "print(presentacion)"
      ],
      "metadata": {
        "id": "1UXPFDO5UviA",
        "colab": {
          "base_uri": "https://localhost:8080/"
        },
        "outputId": "2421a832-7880-4f2b-f201-1bbc1875f06f"
      },
      "execution_count": null,
      "outputs": [
        {
          "output_type": "stream",
          "name": "stdout",
          "text": [
            "Introduce tu nombre de pila: Ale\n",
            "Introduce tu altura1.6\n",
            "Ale tu altura es de 1.60 m\n"
          ]
        }
      ]
    },
    {
      "cell_type": "markdown",
      "source": [
        "# Sentencias If"
      ],
      "metadata": {
        "id": "Alm808oiY9hU"
      }
    },
    {
      "cell_type": "markdown",
      "source": [
        "## Ejercicio 6"
      ],
      "metadata": {
        "id": "Ta2LQrj4ZFuB"
      }
    },
    {
      "cell_type": "markdown",
      "source": [
        "Solicita por teclado al usuario su edad y muéstrale un mensaje indicándole si podría o no votar en unas hipotéticas elecciones generales a celebrar en el día de hoy."
      ],
      "metadata": {
        "id": "vC5aLGmDZYgL"
      }
    },
    {
      "cell_type": "code",
      "source": [
        "edad = int(input('Introduce tu edad: '))\n",
        "\n",
        "if edad < 18:\n",
        "  print('No puedes votar en estas elecciones')\n",
        "else:\n",
        "  print('Puedes votar en estas elecciones')"
      ],
      "metadata": {
        "id": "id6jW-TrZITk",
        "colab": {
          "base_uri": "https://localhost:8080/"
        },
        "outputId": "f4ed0fdd-a65f-46ae-bbca-a523a3728751"
      },
      "execution_count": null,
      "outputs": [
        {
          "output_type": "stream",
          "name": "stdout",
          "text": [
            "Introduce tu edad: 20\n",
            "Puedes votar en estas elecciones\n"
          ]
        }
      ]
    },
    {
      "cell_type": "markdown",
      "source": [
        "## Ejercicio 7"
      ],
      "metadata": {
        "id": "44jpaJ5sZ8EE"
      }
    },
    {
      "cell_type": "markdown",
      "source": [
        "Solicita dos números enteros al usuario e indica si el primero que introdujo es mayor, menor o igual al segundo."
      ],
      "metadata": {
        "id": "ir8UTOV5Z-A6"
      }
    },
    {
      "cell_type": "code",
      "source": [
        "num1 = int(input('Intrdocuce un número: '))\n",
        "num2 = int(input('Introduce otro número: '))\n",
        "\n",
        "if num1 < num2:\n",
        "  print(str(num1) + ' es menor a ' + str(num2))\n",
        "elif num1 == num2:\n",
        "  print('Los dos números son iguales')\n",
        "else:\n",
        "  print(str(num1) + ' es mayor a ' + str(num2))"
      ],
      "metadata": {
        "id": "xBndn1p0Z-im",
        "colab": {
          "base_uri": "https://localhost:8080/"
        },
        "outputId": "5b2b1907-9ac0-40fe-96c8-2e22ce811cdf"
      },
      "execution_count": null,
      "outputs": [
        {
          "output_type": "stream",
          "name": "stdout",
          "text": [
            "Intrdocuce un número: 1\n",
            "Introduce otro número: 1\n",
            "Los dos números son iguales\n"
          ]
        }
      ]
    },
    {
      "cell_type": "markdown",
      "source": [
        "## Ejercicio 8"
      ],
      "metadata": {
        "id": "suFAVjCpbNg6"
      }
    },
    {
      "cell_type": "markdown",
      "source": [
        "Solicita al usuario la calificación (como número real, con decimales) que ha obtenido en un examen. Si es menor que 5, muestra por pantalla **Suspenso**; si está entre 5 y 7 (sin incluir a éste) muestra por pantalla **Bien**; si la calificación está entre 7 y 9 (sin incluir a éste) muestra **Notable**; y si la calificación está entre 9 y 10 muestra **Sobresaliente**."
      ],
      "metadata": {
        "id": "BrK3T8QmbPo2"
      }
    },
    {
      "cell_type": "code",
      "source": [],
      "metadata": {
        "id": "QUH6RbL4bQDz",
        "colab": {
          "base_uri": "https://localhost:8080/"
        },
        "outputId": "7fa38e7a-7526-4d53-fd69-47a6a9d1eac9"
      },
      "execution_count": null,
      "outputs": [
        {
          "output_type": "stream",
          "name": "stdout",
          "text": [
            "Introduce tu calificación: 6\n",
            "Bien\n"
          ]
        }
      ]
    },
    {
      "cell_type": "markdown",
      "source": [
        "# Bucles"
      ],
      "metadata": {
        "id": "RtsOvjhLkepy"
      }
    },
    {
      "cell_type": "markdown",
      "source": [
        "## Ejercicio 9"
      ],
      "metadata": {
        "id": "mhCq6gIakiST"
      }
    },
    {
      "cell_type": "markdown",
      "source": [
        "Haciendo uso del bucle **while**, muestra por pantalla los números del 12 al 24, ambos inclusive."
      ],
      "metadata": {
        "id": "4GfBLlYjkk8V"
      }
    },
    {
      "cell_type": "code",
      "source": [
        "contador = 11\n",
        "\n",
        "while contador <=23:\n",
        "  contador+=1\n",
        "  print(contador)"
      ],
      "metadata": {
        "id": "ZzKQUwR-klWl",
        "colab": {
          "base_uri": "https://localhost:8080/"
        },
        "outputId": "b3136b08-9ebd-4709-e44b-ba0531d7315e"
      },
      "execution_count": null,
      "outputs": [
        {
          "output_type": "stream",
          "name": "stdout",
          "text": [
            "12\n",
            "13\n",
            "14\n",
            "15\n",
            "16\n",
            "17\n",
            "18\n",
            "19\n",
            "20\n",
            "21\n",
            "22\n",
            "23\n",
            "24\n"
          ]
        }
      ]
    },
    {
      "cell_type": "markdown",
      "source": [
        "## Ejercicio 10"
      ],
      "metadata": {
        "id": "t7e1ENp7k5ZS"
      }
    },
    {
      "cell_type": "markdown",
      "source": [
        "Haciendo uso del bucle **for**, muestra por pantalla los números pares situados entre el 12 y el 24, ambos inclusive."
      ],
      "metadata": {
        "id": "O93DGVC2k6F6"
      }
    },
    {
      "cell_type": "code",
      "source": [
        "contador = 12\n",
        "contador_fin = 24\n",
        "\n",
        "lista_pares= []\n",
        "\n",
        "\n",
        "for i in range(contador, contador_fin):\n",
        "  if i % 2 == 0:\n",
        "    lista_pares.append(i)\n",
        "  i+=1\n",
        "print(lista_pares)"
      ],
      "metadata": {
        "id": "8cblMi-7k6eI",
        "colab": {
          "base_uri": "https://localhost:8080/"
        },
        "outputId": "f8719a3e-5e9b-4e7b-aa6f-d27998c4db08"
      },
      "execution_count": null,
      "outputs": [
        {
          "output_type": "stream",
          "name": "stdout",
          "text": [
            "[12, 14, 16, 18, 20, 22]\n"
          ]
        }
      ]
    }
  ]
}