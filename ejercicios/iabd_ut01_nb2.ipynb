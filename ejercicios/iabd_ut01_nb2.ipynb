{
  "nbformat": 4,
  "nbformat_minor": 0,
  "metadata": {
    "colab": {
      "provenance": []
    },
    "kernelspec": {
      "name": "python3",
      "display_name": "Python 3"
    },
    "language_info": {
      "name": "python"
    }
  },
  "cells": [
    {
      "cell_type": "markdown",
      "source": [
        "# Estructuras de datos: Listas."
      ],
      "metadata": {
        "id": "kRWydY6XKHrD"
      }
    },
    {
      "cell_type": "markdown",
      "source": [
        "## Ejercicio 1"
      ],
      "metadata": {
        "id": "kDrc0FyoLmLu"
      }
    },
    {
      "cell_type": "markdown",
      "source": [
        "Solicita dos números enteros al usuario. A continuación, haciendo uso de *listas por comprensión*, crea una lista con aquellos números entre los dos dados (ambos inclusive) que sean múltiplos de 7 y muéstrala por pantalla. Por último, recorre la lista para sumar aquellos valores que sean pares. En la medida de lo posible, lleva un control de errores.\n",
        "\n",
        "**Ejemplo 1:**\n",
        "\n",
        "a = 5\n",
        "\n",
        "b = 58\n",
        "\n",
        "[7, 14, 21, 28, 35, 42, 49, 56]\n",
        "\n",
        "s = 140\n",
        "\n",
        "**Ejemplo 2:**\n",
        "\n",
        "a = 58\n",
        "\n",
        "b = 5\n",
        "\n",
        "[7, 14, 21, 28, 35, 42, 49, 56]\n",
        "\n",
        "s = 140\n",
        "\n",
        "**Ejemplo 3:**\n",
        "\n",
        "a = 10\n",
        "\n",
        "b = 13\n",
        "\n",
        "[]\n",
        "\n",
        "s = 0\n",
        "\n"
      ],
      "metadata": {
        "id": "T02-6deZiAiJ"
      }
    },
    {
      "cell_type": "code",
      "source": [
        "num1 = int(input('Introduce un número: '))\n",
        "num2 = int(input('Introduce otro número: '))\n",
        "\n",
        "lista = []\n",
        "lista_par = []\n",
        "\n",
        "for i in range(num1, num2):\n",
        "  if i % 7 == 0:\n",
        "    lista.append(i)\n",
        "    i+=1\n",
        "\n",
        "\n",
        "for i2 in range(len(lista)):\n",
        "  if(lista[i2] % 2 == 0):\n",
        "    lista_par.append(lista[i2])\n",
        "    i2+=1\n",
        "\n",
        "print('Numero divisibles por 7: ' + str(lista))\n",
        "print('Numeros de la lista pares: ' + str(lista_par))\n",
        "print('Suma de los números de la lista pares: ' + str(sum(lista_par)))"
      ],
      "metadata": {
        "id": "Gp5afBkkMA0g",
        "colab": {
          "base_uri": "https://localhost:8080/"
        },
        "outputId": "2c0f2188-efee-4c1b-849f-da4ac82e04c4"
      },
      "execution_count": null,
      "outputs": [
        {
          "output_type": "stream",
          "name": "stdout",
          "text": [
            "Introduce un número: 5\n",
            "Introduce otro número: 58\n",
            "Numero divisibles por 7: [7, 14, 21, 28, 35, 42, 49, 56]\n",
            "Numeros de la lista pares: [14, 28, 42, 56]\n",
            "Suma de los números de la lista pares: 140\n"
          ]
        }
      ]
    },
    {
      "cell_type": "markdown",
      "source": [
        "## Ejercicio 2"
      ],
      "metadata": {
        "id": "GyiBbRkaMB0Q"
      }
    },
    {
      "cell_type": "markdown",
      "source": [
        "Crea una lista con 10 números a tu elección entre 1 y 100, repitiendo alguno de ellos, y muéstrala por pantalla. A continuación, solicita al usuario un número entre 1 y 100 y muéstrale por pantalla el total de coincidencias en la lista. Por último, borra todas las coincidencias (si existe alguna) y vuelve a mostrar la lista. En la medida de lo posible, lleva un control de errores.\n",
        "\n",
        "**Ejemplo 1:**\n",
        "\n",
        "[1, 45, 34, 45, 36, 98, 100, 24, 45, 18]\n",
        "\n",
        "n = 45\n",
        "\n",
        "coincidencias = 3\n",
        "\n",
        "[1, 34, 36, 98, 100, 24, 18]\n",
        "\n",
        "**Ejemplo 2:**\n",
        "\n",
        "[1, 45, 34, 45, 36, 98, 100, 24, 45, 18]\n",
        "\n",
        "n = 15\n",
        "\n",
        "coincidencias = 0\n",
        "\n",
        "[1, 45, 34, 45, 36, 98, 100, 24, 45, 18]"
      ],
      "metadata": {
        "id": "7b-PnWXOt20V"
      }
    },
    {
      "cell_type": "code",
      "source": [
        "lista_propia = [1, 3, 5, 5, 100, 100, 100, 6, 4, 2]\n",
        "contador = int(0)\n",
        "numero = int(input('Introduce un número: '))\n",
        "\n",
        "for i in range(len(lista_propia)):\n",
        "  if(numero == lista_propia[i]):\n",
        "    contador+=1\n",
        "    i+=1\n",
        "print('Tú número coincide ' + str(contador) + 'con la lista')\n"
      ],
      "metadata": {
        "id": "f7s171TmNIof"
      },
      "execution_count": null,
      "outputs": []
    },
    {
      "cell_type": "markdown",
      "source": [
        "## Ejercicio 3"
      ],
      "metadata": {
        "id": "vW_NULURhktt"
      }
    },
    {
      "cell_type": "markdown",
      "source": [
        "Solicita al usuario una palabra (una cadena de texto) y muestra el número de veces que contiene cada vocal (recuerda que las cadenas de texto se comportan como listas de caracteres).\n",
        "\n",
        "**Ejemplo 1:**\n",
        "\n",
        "palabra = idiosincrasia\n",
        "\n",
        "a: 2 veces\n",
        "\n",
        "e: 0 veces\n",
        "\n",
        "i: 4 veces\n",
        "\n",
        "o: 1 vez\n",
        "\n",
        "u: 0 veces\n"
      ],
      "metadata": {
        "id": "-MLe1zIenQJU"
      }
    },
    {
      "cell_type": "code",
      "source": [
        "palabraU = input(\"Introduce una palabra: \").strip()\n",
        "palabra = palabraU.lower()\n",
        "contador_a = 0\n",
        "contador_e = 0\n",
        "contador_i = 0\n",
        "contador_o = 0\n",
        "contador_u = 0\n",
        "\n",
        "if not palabra:\n",
        "    print(\"No has introducido ninguna palabra.\")\n",
        "else:\n",
        "    for indice, letra in enumerate(palabra, start=1):\n",
        "        if \"a\" in letra:\n",
        "          contador_a+=1\n",
        "        elif \"e\" in letra:\n",
        "          contador_e+=1\n",
        "        elif \"i\" in letra:\n",
        "          contador_i+=1\n",
        "        elif \"o\" in letra:\n",
        "          contador_o+=1\n",
        "        elif \"u\" in letra:\n",
        "          contador_u+=1\n",
        "\n",
        "print(\"La letra a se repite: \" + str(contador_a) + \"\\n\"\n",
        "\"La letra e se repite: \" + str(contador_e) + \"\\n\"\n",
        "\"La letra i se repite: \" + str(contador_i) + \"\\n\"\n",
        "\"La letra o se repite: \" + str(contador_o) + \"\\n\"\n",
        "\"La letra u se repite: \" + str(contador_u)\n",
        ")\n"
      ],
      "metadata": {
        "id": "uj-uIoBNhmqd",
        "colab": {
          "base_uri": "https://localhost:8080/"
        },
        "outputId": "8736dd13-c074-4b58-8630-6bd66d162129"
      },
      "execution_count": 16,
      "outputs": [
        {
          "output_type": "stream",
          "name": "stdout",
          "text": [
            "Introduce una palabra: idiosincrasia\n",
            "La letra a se repite: 2\n",
            "La letra e se repite: 0\n",
            "La letra i se repite: 4\n",
            "La letra o se repite: 1\n",
            "La letra u se repite: 0\n"
          ]
        }
      ]
    },
    {
      "cell_type": "markdown",
      "source": [
        "# Estructuras de datos: Tuplas.\n",
        "\n"
      ],
      "metadata": {
        "id": "B6iOEYynMbeA"
      }
    },
    {
      "cell_type": "markdown",
      "source": [
        "## Ejercicio 4"
      ],
      "metadata": {
        "id": "6FX-m2I2Md0t"
      }
    },
    {
      "cell_type": "markdown",
      "source": [
        "Solicita 4 valores enteros al usuario, almacénalos en una tupla y muestra la tupla por pantalla. A continuación, muestra el menor y el mayor de los valores presentes en la tupla.\n",
        "\n",
        "**Ejemplo 1:**\n",
        "\n",
        "v1 = 4\n",
        "\n",
        "v2 = 79\n",
        "\n",
        "v3 = 0\n",
        "\n",
        "v4 = 15\n",
        "\n",
        "t = (4, 79, 0, 15)\n",
        "\n",
        "menor = 0\n",
        "\n",
        "mayor = 79"
      ],
      "metadata": {
        "id": "N44w55Cqorgl"
      }
    },
    {
      "cell_type": "code",
      "source": [
        "num1 = int(input('Introduce un número: '))\n",
        "num2 = int(input('Introduce un número: '))\n",
        "num3 = int(input('Introduce un número: '))\n",
        "num4 = int(input('Introduce un número: '))\n",
        "\n",
        "mi_tupla = (num1, num2, num3, num4)\n",
        "mayor = max(mi_tupla)\n",
        "menor = min(mi_tupla)\n",
        "\n",
        "print(mi_tupla)\n",
        "print(\"Mayor= \" + str(mayor))\n",
        "print(\"Menor= \" + str(menor))"
      ],
      "metadata": {
        "id": "2nJBwiN6NJbY",
        "colab": {
          "base_uri": "https://localhost:8080/"
        },
        "outputId": "f0d52269-1fee-4347-a6ef-5f5129750ff7"
      },
      "execution_count": 29,
      "outputs": [
        {
          "output_type": "stream",
          "name": "stdout",
          "text": [
            "Introduce un número: 30\n",
            "Introduce un número: 300\n",
            "Introduce un número: 12\n",
            "Introduce un número: 3\n",
            "(30, 300, 12, 3)\n",
            "Mayor= 300\n",
            "Menor= 3\n"
          ]
        }
      ]
    },
    {
      "cell_type": "markdown",
      "source": [
        "## Ejercicio 5"
      ],
      "metadata": {
        "id": "njf4rs1CNJzu"
      }
    },
    {
      "cell_type": "markdown",
      "source": [
        "Crea una tupla con los valores **Buenos días**, **Buenas tardes** y **Buenas noches**. A continuación, solicita al usuario su nombre y una hora en el formato hh:mm (24h). Por último, muestra un mensaje al usuario del tipo **Hola, José. El saludo a utilizar a las 11:15 sería 'Buenos días'.**\n",
        "\n",
        "**Ejemplo 1:**\n",
        "\n",
        "Introduce tu nombre: José\n",
        "\n",
        "Introduce una hora (hh:mm, 24h): 11:15\n",
        "\n",
        "Hola, José. El saludo a utilizar a las 11:15 sería 'Buenos días'.\n",
        "\n",
        "**Ejemplo 2:**\n",
        "\n",
        "Introduce tu nombre: José\n",
        "\n",
        "Introduce una hora (hh:mm, 24h): 25:15\n",
        "\n",
        "Hola, José. Esa hora no existe."
      ],
      "metadata": {
        "id": "jeUiScy_p3B7"
      }
    },
    {
      "cell_type": "code",
      "source": [
        "from datetime import datetime\n",
        "saludos = (\"Buenos días\", \"Buenas tardes\", \"Buenas noches\")\n",
        "hora = 0\n",
        "minuto = 0\n",
        "nombre = str(input('Introduce tu nombre: '))\n",
        "saludo = ''\n",
        "\n",
        "\n",
        "while True:\n",
        "  hora_str = input('Introduce una hora (HH:MM): ').strip()\n",
        "  try:\n",
        "    hora_obj = datetime.strptime(hora_str, \"%H:%M\")\n",
        "    hora = hora_obj.hour\n",
        "    minuto = hora_obj.minute\n",
        "    break\n",
        "  except ValueError:\n",
        "    print(\"Formato inválido. Ejemplo válido: 09:30 o 21:45\")\n",
        "if 6 <= hora <12:\n",
        "  saludo = saludos[0]\n",
        "elif 12 <= hora <20:\n",
        "  saludo = saludos[1]\n",
        "elif 20 <= hora <23:\n",
        "  saludo = saludos[2]\n",
        "\n",
        "print(\"Hola, \" + nombre + \" el saludo a utilizar a las \" + str(hora)+ \":\" + str(minuto) + \" es: \" + saludo)"
      ],
      "metadata": {
        "id": "gC8QDEURPIsU",
        "colab": {
          "base_uri": "https://localhost:8080/",
          "height": 408
        },
        "outputId": "01fc4af9-89c8-41d7-a658-34db4d9806e5"
      },
      "execution_count": 59,
      "outputs": [
        {
          "output_type": "stream",
          "name": "stdout",
          "text": [
            "Introduce tu nombre: Ale\n",
            "Introduce una hora (HH:MM): 124\n",
            "Formato inválido. Ejemplo válido: 09:30 o 21:45\n"
          ]
        },
        {
          "output_type": "error",
          "ename": "KeyboardInterrupt",
          "evalue": "Interrupted by user",
          "traceback": [
            "\u001b[0;31m---------------------------------------------------------------------------\u001b[0m",
            "\u001b[0;31mKeyboardInterrupt\u001b[0m                         Traceback (most recent call last)",
            "\u001b[0;32m/tmp/ipython-input-3581018440.py\u001b[0m in \u001b[0;36m<cell line: 0>\u001b[0;34m()\u001b[0m\n\u001b[1;32m      8\u001b[0m \u001b[0;34m\u001b[0m\u001b[0m\n\u001b[1;32m      9\u001b[0m \u001b[0;32mwhile\u001b[0m \u001b[0;32mTrue\u001b[0m\u001b[0;34m:\u001b[0m\u001b[0;34m\u001b[0m\u001b[0;34m\u001b[0m\u001b[0m\n\u001b[0;32m---> 10\u001b[0;31m   \u001b[0mhora_str\u001b[0m \u001b[0;34m=\u001b[0m \u001b[0minput\u001b[0m\u001b[0;34m(\u001b[0m\u001b[0;34m'Introduce una hora (HH:MM): '\u001b[0m\u001b[0;34m)\u001b[0m\u001b[0;34m.\u001b[0m\u001b[0mstrip\u001b[0m\u001b[0;34m(\u001b[0m\u001b[0;34m)\u001b[0m\u001b[0;34m\u001b[0m\u001b[0;34m\u001b[0m\u001b[0m\n\u001b[0m\u001b[1;32m     11\u001b[0m   \u001b[0;32mtry\u001b[0m\u001b[0;34m:\u001b[0m\u001b[0;34m\u001b[0m\u001b[0;34m\u001b[0m\u001b[0m\n\u001b[1;32m     12\u001b[0m     \u001b[0mhora_obj\u001b[0m \u001b[0;34m=\u001b[0m \u001b[0mdatetime\u001b[0m\u001b[0;34m.\u001b[0m\u001b[0mstrptime\u001b[0m\u001b[0;34m(\u001b[0m\u001b[0mhora_str\u001b[0m\u001b[0;34m,\u001b[0m \u001b[0;34m\"%H:%M\"\u001b[0m\u001b[0;34m)\u001b[0m\u001b[0;34m\u001b[0m\u001b[0;34m\u001b[0m\u001b[0m\n",
            "\u001b[0;32m/usr/local/lib/python3.12/dist-packages/ipykernel/kernelbase.py\u001b[0m in \u001b[0;36mraw_input\u001b[0;34m(self, prompt)\u001b[0m\n\u001b[1;32m   1175\u001b[0m                 \u001b[0;34m\"raw_input was called, but this frontend does not support input requests.\"\u001b[0m\u001b[0;34m\u001b[0m\u001b[0;34m\u001b[0m\u001b[0m\n\u001b[1;32m   1176\u001b[0m             )\n\u001b[0;32m-> 1177\u001b[0;31m         return self._input_request(\n\u001b[0m\u001b[1;32m   1178\u001b[0m             \u001b[0mstr\u001b[0m\u001b[0;34m(\u001b[0m\u001b[0mprompt\u001b[0m\u001b[0;34m)\u001b[0m\u001b[0;34m,\u001b[0m\u001b[0;34m\u001b[0m\u001b[0;34m\u001b[0m\u001b[0m\n\u001b[1;32m   1179\u001b[0m             \u001b[0mself\u001b[0m\u001b[0;34m.\u001b[0m\u001b[0m_parent_ident\u001b[0m\u001b[0;34m[\u001b[0m\u001b[0;34m\"shell\"\u001b[0m\u001b[0;34m]\u001b[0m\u001b[0;34m,\u001b[0m\u001b[0;34m\u001b[0m\u001b[0;34m\u001b[0m\u001b[0m\n",
            "\u001b[0;32m/usr/local/lib/python3.12/dist-packages/ipykernel/kernelbase.py\u001b[0m in \u001b[0;36m_input_request\u001b[0;34m(self, prompt, ident, parent, password)\u001b[0m\n\u001b[1;32m   1217\u001b[0m             \u001b[0;32mexcept\u001b[0m \u001b[0mKeyboardInterrupt\u001b[0m\u001b[0;34m:\u001b[0m\u001b[0;34m\u001b[0m\u001b[0;34m\u001b[0m\u001b[0m\n\u001b[1;32m   1218\u001b[0m                 \u001b[0;31m# re-raise KeyboardInterrupt, to truncate traceback\u001b[0m\u001b[0;34m\u001b[0m\u001b[0;34m\u001b[0m\u001b[0m\n\u001b[0;32m-> 1219\u001b[0;31m                 \u001b[0;32mraise\u001b[0m \u001b[0mKeyboardInterrupt\u001b[0m\u001b[0;34m(\u001b[0m\u001b[0;34m\"Interrupted by user\"\u001b[0m\u001b[0;34m)\u001b[0m \u001b[0;32mfrom\u001b[0m \u001b[0;32mNone\u001b[0m\u001b[0;34m\u001b[0m\u001b[0;34m\u001b[0m\u001b[0m\n\u001b[0m\u001b[1;32m   1220\u001b[0m             \u001b[0;32mexcept\u001b[0m \u001b[0mException\u001b[0m\u001b[0;34m:\u001b[0m\u001b[0;34m\u001b[0m\u001b[0;34m\u001b[0m\u001b[0m\n\u001b[1;32m   1221\u001b[0m                 \u001b[0mself\u001b[0m\u001b[0;34m.\u001b[0m\u001b[0mlog\u001b[0m\u001b[0;34m.\u001b[0m\u001b[0mwarning\u001b[0m\u001b[0;34m(\u001b[0m\u001b[0;34m\"Invalid Message:\"\u001b[0m\u001b[0;34m,\u001b[0m \u001b[0mexc_info\u001b[0m\u001b[0;34m=\u001b[0m\u001b[0;32mTrue\u001b[0m\u001b[0;34m)\u001b[0m\u001b[0;34m\u001b[0m\u001b[0;34m\u001b[0m\u001b[0m\n",
            "\u001b[0;31mKeyboardInterrupt\u001b[0m: Interrupted by user"
          ]
        }
      ]
    },
    {
      "cell_type": "markdown",
      "source": [
        "## Ejercicio 6"
      ],
      "metadata": {
        "id": "4ykLkZTVPJHa"
      }
    },
    {
      "cell_type": "markdown",
      "source": [
        "Crea una tupla de nombre **canarias** con tres elementos. El primero es una tupla que contiene el nombre de las 8 islas canarias, el segundo es otra tupla que contiene la capital de cada isla y el tercero es una lista con la temperatura media de cada capital. A continuación, muestra la información correspondiente a Las Palmas de Gran Canaria y a Santa Cruz de Tenerife. Por último, muestra la temperatura media en las capitales.\n",
        "\n",
        "**Ejemplo:**\n",
        "\n",
        "Gran Canaria\n",
        "\n",
        "Capital: Las Palmas de Gran Canaria\n",
        "\n",
        "Temperatura media: 21.0 °C\n",
        "\n",
        "Tenerife\n",
        "\n",
        "Capital: Santa Cruz de Tenerife\n",
        "\n",
        "Temperatura media: 20.0 °C\n",
        "\n",
        "Temperatura media de las capitales de Canarias: 21.5 °C\n",
        "\n"
      ],
      "metadata": {
        "id": "9bq7aZYHs8GO"
      }
    },
    {
      "cell_type": "code",
      "source": [
        "islas = (\"Gran Canaria\", \"Tenerife\", \"Fuerteventura\", \"La Graciosa\", \"El Hierro\", \"Lanzarote\", \"La Palma\")"
      ],
      "metadata": {
        "id": "1UXPFDO5UviA"
      },
      "execution_count": null,
      "outputs": []
    },
    {
      "cell_type": "markdown",
      "source": [
        "# Estructuras de datos: Diccionarios."
      ],
      "metadata": {
        "id": "Alm808oiY9hU"
      }
    },
    {
      "cell_type": "markdown",
      "source": [
        "## Ejercicio 7"
      ],
      "metadata": {
        "id": "Ta2LQrj4ZFuB"
      }
    },
    {
      "cell_type": "markdown",
      "source": [
        "Crea un diccionario que almacene los datos de un tenista (por ahora, sólo nombre -realmente primer apellido-, altura y número de Grand Slams ganados). A continuación, crea una lista de nombre **tenistas** con información de tres tenistas e imprímela por pantalla. Por último, solicita al usuario el nombre de un tenista, muestra su información y añade el mensaje **¿Sabías que NOMBRE_JUGADOR es el que más Grand Slams ha ganado?**, donde NOMBRE_JUGADOR es el nombre del jugador que más Grand Slams ha ganado, que tendrás que buscar.\n",
        "\n",
        "**Ejemplo:**\n",
        "\n",
        "tenistas =[{'nombre': 'Nadal', 'altura': 1.85, 'n_grandslams': 22}, {'nombre': 'Djokovic', 'altura': 1.88, 'n_grandslams': 24}, {'nombre': 'Federer', 'altura': 1.85, 'n_grandslams': 20}]\n",
        "\n",
        "Introduce el nombre de un tenista: Nadal\n",
        "\n",
        "Altura: 1.85 m\n",
        "\n",
        "Grand Slams: 22\n",
        "\n",
        "¿Sabías que Djokovic es el jugador que más Grand Slams ha ganado?\n",
        "\n",
        "\n",
        "\n"
      ],
      "metadata": {
        "id": "9WDjT3xheasN"
      }
    },
    {
      "cell_type": "code",
      "source": [],
      "metadata": {
        "id": "id6jW-TrZITk"
      },
      "execution_count": null,
      "outputs": []
    },
    {
      "cell_type": "markdown",
      "source": [
        "## Ejercicio 8"
      ],
      "metadata": {
        "id": "44jpaJ5sZ8EE"
      }
    },
    {
      "cell_type": "markdown",
      "source": [
        "Crea un diccionario con tu horario de clase, considerando clave el día de la semana. A continuación, solicita al usuario día de la semana y hora, para mostrarle qué módulo tiene. Haz un control de posibles errores.\n",
        "\n",
        "**Ejemplo 1:**\n",
        "\n",
        "Horario IABD 2025-26\n",
        "\n",
        "Día: Jueves\n",
        "\n",
        "Hora: 18:40\n",
        "\n",
        "Módulo: 7RO (Programación de Inteligencia Artificial)\n",
        "\n",
        "**Ejemplo 2:**\n",
        "\n",
        "Horario IABD 2025-26\n",
        "\n",
        "Día: Jueves\n",
        "\n",
        "Hora: 09:50\n",
        "\n",
        "El curso se imparte en horario de tarde.\n"
      ],
      "metadata": {
        "id": "EVV9B6_8ih0n"
      }
    },
    {
      "cell_type": "code",
      "source": [],
      "metadata": {
        "id": "xBndn1p0Z-im"
      },
      "execution_count": null,
      "outputs": []
    },
    {
      "cell_type": "markdown",
      "source": [
        "## Ejercicio 9"
      ],
      "metadata": {
        "id": "suFAVjCpbNg6"
      }
    },
    {
      "cell_type": "markdown",
      "source": [
        "Crea una lista que contenga el nombre de cinco artistas o grupos musicales que te gusten. A continuación, crea otra lista con una canción de cada artista/grupo musical, almacenándola en la misma posición en la que se encuentra el artista/grupo en la primera lista. Por último, crea un diccionario uniendo las dos listas y muestra la información por pantalla en el formato que desees. Da la opción al usuario para que pueda modificar la canción."
      ],
      "metadata": {
        "id": "F3PIM4sPkEL4"
      }
    },
    {
      "cell_type": "code",
      "source": [],
      "metadata": {
        "id": "QUH6RbL4bQDz"
      },
      "execution_count": null,
      "outputs": []
    }
  ]
}